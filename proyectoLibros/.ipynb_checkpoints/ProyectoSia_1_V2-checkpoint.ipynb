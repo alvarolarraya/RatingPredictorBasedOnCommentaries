{
 "cells": [
  {
   "cell_type": "code",
   "execution_count": 268,
   "id": "648bf9d1",
   "metadata": {},
   "outputs": [],
   "source": [
    "import requests as req\n",
    "import matplotlib.pyplot as plt\n",
    "from bs4 import BeautifulSoup\n",
    "from sklearn import metrics\n",
    "import numpy as np\n",
    "import re\n",
    "from nltk.stem import PorterStemmer\n",
    "from nltk import word_tokenize\n",
    "from sklearn.feature_extraction.text import CountVectorizer\n",
    "from sklearn.feature_extraction.text import TfidfTransformer\n",
    "from sklearn.naive_bayes import MultinomialNB\n",
    "from sklearn.model_selection import train_test_split\n",
    "from sklearn.pipeline import Pipeline\n",
    "from sklearn.preprocessing import PolynomialFeatures, StandardScaler\n",
    "from sklearn.model_selection import ShuffleSplit\n",
    "from sklearn.linear_model import LogisticRegression\n",
    "from sklearn.metrics import mean_squared_error\n",
    "from sklearn.model_selection import GridSearchCV\n",
    "from nltk.corpus import stopwords\n",
    "from sklearn.model_selection import cross_validate\n",
    "from sklearn.metrics import plot_confusion_matrix\n",
    "from funciones import getData,getNextPage,getComentarios,getEstrellas,tokenizar,crearCorpus,leerLibro,preprocesar"
   ]
  },
  {
   "cell_type": "markdown",
   "id": "38f89983",
   "metadata": {},
   "source": [
    "<br/><br/>**<u>OBTENCION DE DATOS</u>:**<br/><br/><br/><br/>"
   ]
  },
  {
   "cell_type": "code",
   "execution_count": 269,
   "id": "1334b904",
   "metadata": {},
   "outputs": [],
   "source": [
    "# Genero un array de urls de libros que vamos a utilizar.\n",
    "urls = ['https://www.amazon.es/SUERTE-IDIOTAS-Novela-adictiva-acabar%C3%A1s-ebook/product-reviews/B07RBQGXVX/ref=cm_cr_dp_d_show_all_btm?ie=UTF8&reviewerType=all_reviews',\n",
    "        'https://www.amazon.es/Par%C3%ADs-puede-esperar-Especial-Confinamiento-ebook/product-reviews/B087CSCB5L/ref=cm_cr_dp_d_show_all_btm?ie=UTF8&reviewerType=all_reviews',\n",
    "       'https://www.amazon.es/DAMA-BLANCA-cuestionar%C3%A1-l%C3%ADmites-prohibido-ebook/product-reviews/B082PZT2KW/ref=cm_cr_dp_d_show_all_btm?ie=UTF8&reviewerType=all_reviews',\n",
    "       'https://www.amazon.es/Siete-libros-para-Eva-Santiago-ebook/product-reviews/B01HVYEAA8/ref=cm_cr_dp_d_show_all_btm?ie=UTF8&reviewerType=all_reviews',\n",
    "       'https://www.amazon.es/REDENCI%C3%93N-novela-revelaci%C3%B3n-Fernando-Gamboa-ebook/product-reviews/B07QW5QQM3/ref=cm_cr_dp_d_show_all_btm?ie=UTF8&reviewerType=all_reviews',\n",
    "       'https://www.amazon.es/Maldici%C3%B3n-los-Montreal-misterio-suspense-ebook/product-reviews/B01HWOH1TY/ref=cm_cr_dp_d_show_all_btm?ie=UTF8&reviewerType=all_reviews',\n",
    "       'https://www.amazon.es/Las-doce-puertas-Parte-I-ebook/product-reviews/B07Q6ZFN17/ref=cm_cr_dp_d_show_all_btm?ie=UTF8&reviewerType=all_reviews',\n",
    "       'https://www.amazon.es/soledad-CONTEMPORANEA-Gabriel-Garcia-Marquez/product-reviews/8497592204/ref=cm_cr_dp_d_show_all_btm?ie=UTF8&reviewerType=all_reviews',\n",
    "       'https://www.amazon.es/SILAS-MARNER-NULL/product-reviews/9963473253/ref=cm_cr_dp_d_show_all_btm?ie=UTF8&reviewerType=all_reviews']\n",
    "\n",
    "# Con esto ya tenemos todas las reseñas y estrellas de todos los libros.\n",
    "resenias = []\n",
    "estrellas = []\n",
    "for url in urls:\n",
    "    todosLosComentarios,todasLasEstrellas = leerLibro(url)\n",
    "    resenias.append(todosLosComentarios)\n",
    "    estrellas.append(todasLasEstrellas)\n",
    "    \n",
    "# Pasamos todas las resenias a un array con una reseña por posicion.\n",
    "listadoResenias = []\n",
    "listadoEstrellas = []\n",
    "for i,libro in enumerate(resenias): \n",
    "    for pagina in libro:\n",
    "        for comentario in pagina:\n",
    "            listadoResenias.append(comentario)\n",
    "            \n",
    "for libro in estrellas: \n",
    "    for pagina in libro:\n",
    "        for valoracion in pagina:\n",
    "            listadoEstrellas.append(valoracion)\n",
    "            \n",
    "listadoResenias = np.array(listadoResenias)\n",
    "listadoEstrellas = np.array(listadoEstrellas).astype('int')"
   ]
  },
  {
   "cell_type": "markdown",
   "id": "ce47f8db",
   "metadata": {},
   "source": [
    "<br/><br/>**<u>ANALISIS DEL PROBLEMA</u>:**<br/><br/><br/><br/>"
   ]
  },
  {
   "cell_type": "code",
   "execution_count": 270,
   "id": "04510c34",
   "metadata": {
    "scrolled": true
   },
   "outputs": [
    {
     "name": "stdout",
     "output_type": "stream",
     "text": [
      "Nos encontramos ante un problema muy desbalanceado:\n"
     ]
    },
    {
     "data": {
      "image/png": "[encoded data removed]",
      "text/plain": [
       "<Figure size 432x288 with 1 Axes>"
      ]
     },
     "metadata": {
      "needs_background": "light"
     },
     "output_type": "display_data"
    }
   ],
   "source": [
    "print(\"Nos encontramos ante un problema muy desbalanceado:\")\n",
    "plt.hist(listadoEstrellas,color = 'black')\n",
    "plt.xlabel('estrellas') \n",
    "plt.ylabel('reseñas') \n",
    "plt.title(\"Valoraciones\")\n",
    "plt.show()"
   ]
  },
  {
   "cell_type": "code",
   "execution_count": 271,
   "id": "08fad76f",
   "metadata": {},
   "outputs": [
    {
     "name": "stdout",
     "output_type": "stream",
     "text": [
      "Tenemos 4707 valoraciones:\n",
      "\tDe 1 estrellas: 279\n",
      "\tDe 2 estrellas: 210\n",
      "\tDe 3 estrellas: 379\n",
      "\tDe 4 estrellas: 926\n",
      "\tDe 5 estrellas: 2913\n"
     ]
    }
   ],
   "source": [
    "print(\"Tenemos {} valoraciones:\".format(listadoResenias.shape[0]))\n",
    "reseniasPorValoracion = []\n",
    "for i in range(1,6):\n",
    "    reseniasPorValoracion.append(listadoResenias[listadoEstrellas == i].shape[0])\n",
    "    print(\"\\tDe {} estrellas: {}\".format(i,reseniasPorValoracion[i-1]))"
   ]
  },
  {
   "cell_type": "markdown",
   "id": "c550ec78",
   "metadata": {},
   "source": [
    "<br/><br/>**<u>PODAR EL DATASET</u>:**<br/><br/><br/><br/>"
   ]
  },
  {
   "cell_type": "code",
   "execution_count": 272,
   "id": "49898fe7",
   "metadata": {},
   "outputs": [
    {
     "data": {
      "text/plain": [
       "'\\n#me quedo de cada estrella con el mismo numero de resenias, con el numero de resenias\\n#que tenga la estrella que menos tiene\\nlistadoReseniasPodadas = []\\nmenosReseniasValoracion = min(reseniasPorValoracion)\\nlistadoEstrellasPodadas = np.empty((menosReseniasValoracion*5,))\\nfor valoracion in [1,2,3,4,5]:\\n    aux = listadoResenias[listadoEstrellas == valoracion]\\n    permutacion = np.random.permutation(aux.shape[0])\\n    aux = aux[permutacion]\\n    listadoReseniasPodadas += list(aux[:menosReseniasValoracion])\\n    listadoEstrellasPodadas[(valoracion-1)*menosReseniasValoracion:valoracion*menosReseniasValoracion] = valoracion\\nlistadoReseniasPodadas = np.array(listadoReseniasPodadas)\\npermutacion = np.random.permutation(listadoReseniasPodadas.shape[0])\\nlistadoReseniasPodadas = listadoReseniasPodadas[permutacion]\\nlistadoEstrellasPodadas = listadoEstrellasPodadas[permutacion]\\nprint(\"Nos hemos quedado con {} resenias balanceadas\".format(listadoReseniasPodadas.shape[0]))\\n'"
      ]
     },
     "execution_count": 272,
     "metadata": {},
     "output_type": "execute_result"
    }
   ],
   "source": [
    "#'''\n",
    "listadoReseniasPodadas = listadoResenias\n",
    "listadoEstrellasPodadas = listadoEstrellas\n",
    "'''\n",
    "#me quedo de cada estrella con el mismo numero de resenias, con el numero de resenias\n",
    "#que tenga la estrella que menos tiene\n",
    "listadoReseniasPodadas = []\n",
    "menosReseniasValoracion = min(reseniasPorValoracion)\n",
    "listadoEstrellasPodadas = np.empty((menosReseniasValoracion*5,))\n",
    "for valoracion in [1,2,3,4,5]:\n",
    "    aux = listadoResenias[listadoEstrellas == valoracion]\n",
    "    permutacion = np.random.permutation(aux.shape[0])\n",
    "    aux = aux[permutacion]\n",
    "    listadoReseniasPodadas += list(aux[:menosReseniasValoracion])\n",
    "    listadoEstrellasPodadas[(valoracion-1)*menosReseniasValoracion:valoracion*menosReseniasValoracion] = valoracion\n",
    "listadoReseniasPodadas = np.array(listadoReseniasPodadas)\n",
    "permutacion = np.random.permutation(listadoReseniasPodadas.shape[0])\n",
    "listadoReseniasPodadas = listadoReseniasPodadas[permutacion]\n",
    "listadoEstrellasPodadas = listadoEstrellasPodadas[permutacion]\n",
    "print(\"Nos hemos quedado con {} resenias balanceadas\".format(listadoReseniasPodadas.shape[0]))\n",
    "'''"
   ]
  },
  {
   "cell_type": "code",
   "execution_count": 273,
   "id": "0fe4c2c9",
   "metadata": {},
   "outputs": [
    {
     "data": {
      "image/png": "[encoded data removed]",
      "text/plain": [
       "<Figure size 432x288 with 1 Axes>"
      ]
     },
     "metadata": {
      "needs_background": "light"
     },
     "output_type": "display_data"
    }
   ],
   "source": [
    "plt.hist(listadoEstrellasPodadas,color = 'black')\n",
    "plt.xlabel('estrellas') \n",
    "plt.ylabel('reseñas') \n",
    "plt.title(\"Valoraciones\")\n",
    "plt.show()"
   ]
  },
  {
   "cell_type": "markdown",
   "id": "1226af32",
   "metadata": {},
   "source": [
    "<br/><br/>**<u>PREPROCESADO</u>:**<br/><br/><br/><br/>"
   ]
  },
  {
   "cell_type": "code",
   "execution_count": 274,
   "id": "bfd35f15",
   "metadata": {},
   "outputs": [],
   "source": [
    "listadoReseniasPodadas = preprocesar(listadoReseniasPodadas)"
   ]
  },
  {
   "cell_type": "markdown",
   "id": "34ab7c7a",
   "metadata": {},
   "source": [
    "<br/><br/>**<u>STEMMIZAR</u>:**<br/><br/><br/><br/>"
   ]
  },
  {
   "cell_type": "code",
   "execution_count": 275,
   "id": "1bc459a4",
   "metadata": {},
   "outputs": [
    {
     "data": {
      "text/plain": [
       "'\\n#no lo aplicamos porque baja el resultado\\nlistadoResenias = crearCorpus(listadoReseniasPodadas)\\nprint(listadoReseniasPodadas[0])\\n'"
      ]
     },
     "execution_count": 275,
     "metadata": {},
     "output_type": "execute_result"
    }
   ],
   "source": [
    "'''\n",
    "#no lo aplicamos porque baja el resultado\n",
    "listadoResenias = crearCorpus(listadoReseniasPodadas)\n",
    "print(listadoReseniasPodadas[0])\n",
    "'''"
   ]
  },
  {
   "cell_type": "markdown",
   "id": "27d54c00",
   "metadata": {},
   "source": [
    "<br/><br/>**<u>BAG OF WORDS</u>:**<br/><br/><br/><br/>"
   ]
  },
  {
   "cell_type": "code",
   "execution_count": 276,
   "id": "69fd786e",
   "metadata": {},
   "outputs": [],
   "source": [
    "stop_words = set(stopwords.words('spanish'))\n",
    "vectorizerDadoVocabulario = CountVectorizer(stop_words = stop_words)\n",
    "bagOfWords = vectorizerDadoVocabulario.fit_transform(listadoReseniasPodadas)"
   ]
  },
  {
   "cell_type": "markdown",
   "id": "0eae9615",
   "metadata": {},
   "source": [
    "<br/><br/>**<u>TFIDF</u>:**<br/><br/><br/><br/>"
   ]
  },
  {
   "cell_type": "code",
   "execution_count": 277,
   "id": "ab8e5252",
   "metadata": {},
   "outputs": [
    {
     "data": {
      "text/plain": [
       "'\\ntfidf = TfidfTransformer()\\nbagOfWords = tfidf.fit_transform(bagOfWords)\\n'"
      ]
     },
     "execution_count": 277,
     "metadata": {},
     "output_type": "execute_result"
    }
   ],
   "source": [
    "'''\n",
    "tfidf = TfidfTransformer()\n",
    "bagOfWords = tfidf.fit_transform(bagOfWords)\n",
    "'''"
   ]
  },
  {
   "cell_type": "markdown",
   "id": "5d111b7c",
   "metadata": {},
   "source": [
    "<br/><br/>**<u>HOLD OUT</u>:**<br/><br/><br/><br/>"
   ]
  },
  {
   "cell_type": "code",
   "execution_count": 278,
   "id": "90ed40bc",
   "metadata": {},
   "outputs": [],
   "source": [
    "X_train, X_test, y_train, y_test = train_test_split(bagOfWords,listadoEstrellasPodadas, stratify=listadoEstrellasPodadas,test_size=0.1,random_state=0)"
   ]
  },
  {
   "cell_type": "markdown",
   "id": "18a8dcbe",
   "metadata": {},
   "source": [
    "<br/><br/>**<u>NB MULTINOMIAL CON HOLD OUT Y GRID SEARCH</u>:**<br/><br/><br/><br/>"
   ]
  },
  {
   "cell_type": "code",
   "execution_count": 279,
   "id": "0ebc7775",
   "metadata": {},
   "outputs": [
    {
     "name": "stdout",
     "output_type": "stream",
     "text": [
      "mejor alpha 1\n",
      "Con el mejor modelo de nb multinomial obtengo:\n",
      "\t Accuracy de entrenamiento:  80.47686496694996\n",
      "\t Accuracy de test:  61.57112526539278\n"
     ]
    }
   ],
   "source": [
    "alphas_a_probar = [0,1,2,3,4,5]\n",
    "parameters = {'alpha': alphas_a_probar}\n",
    "clf = MultinomialNB()\n",
    "gridSearch = GridSearchCV(clf, param_grid = parameters, n_jobs=-1)\n",
    "gridSearch = gridSearch.fit(X_train,y_train)\n",
    "best_alpha = gridSearch.best_params_['alpha']\n",
    "clf = MultinomialNB(alpha = best_alpha)\n",
    "print(\"mejor alpha\",best_alpha)\n",
    "clf = clf.fit(X_train,y_train)\n",
    "print('Con el mejor modelo de nb multinomial obtengo:')\n",
    "print('\\t Accuracy de entrenamiento: ', clf.score(X_train,y_train)*100)\n",
    "print('\\t Accuracy de test: ', clf.score(X_test,y_test)*100)"
   ]
  },
  {
   "cell_type": "code",
   "execution_count": 280,
   "id": "73239e45",
   "metadata": {},
   "outputs": [
    {
     "data": {
      "image/png": "[encoded data removed]",
      "text/plain": [
       "<Figure size 432x288 with 2 Axes>"
      ]
     },
     "metadata": {
      "needs_background": "light"
     },
     "output_type": "display_data"
    }
   ],
   "source": [
    "plot_confusion_matrix(clf, X_test, y_test);"
   ]
  },
  {
   "cell_type": "markdown",
   "id": "2f35aa79",
   "metadata": {},
   "source": [
    "<br/><br/>**<u>NB MULTINOMIAL CON CROSS VALIDATE</u>:**<br/><br/><br/><br/>"
   ]
  },
  {
   "cell_type": "code",
   "execution_count": 281,
   "id": "3027be7e",
   "metadata": {},
   "outputs": [
    {
     "name": "stdout",
     "output_type": "stream",
     "text": [
      "[0.61971831 0.5915493  0.56338028 0.57746479 0.64788732 0.5915493\n",
      " 0.61971831 0.64788732 0.57746479 0.6056338  0.64788732 0.6056338\n",
      " 0.69014085 0.64788732 0.61971831 0.54929577 0.5915493  0.5915493\n",
      " 0.67605634 0.61971831 0.67605634 0.61971831 0.61971831 0.56338028\n",
      " 0.63380282 0.6056338  0.64788732 0.63380282 0.64788732 0.64788732\n",
      " 0.56338028 0.63380282 0.56338028 0.64788732 0.61971831 0.69014085\n",
      " 0.62857143 0.62857143 0.62857143 0.7        0.62857143 0.65714286\n",
      " 0.64285714 0.55714286 0.55714286 0.64285714 0.62857143 0.62857143\n",
      " 0.67142857 0.64285714 0.64285714 0.61428571 0.58571429 0.71428571\n",
      " 0.6        0.54285714 0.58571429 0.6        0.64285714 0.58571429]\n",
      "0.613588110403397\n"
     ]
    }
   ],
   "source": [
    "alphas_a_probar = [0,1,2,3,4,5]\n",
    "parameters = {'alpha': alphas_a_probar}\n",
    "cv_results = cross_validate(MultinomialNB(), X_train, y_train, cv=60,return_estimator=True)\n",
    "estimadores = cv_results['estimator']\n",
    "resultadosValidacion = cv_results['test_score']\n",
    "mejorEstimador = estimadores[np.argmax(resultadosValidacion)]\n",
    "print(resultadosValidacion)\n",
    "print(mejorEstimador.score(X_test,y_test))"
   ]
  },
  {
   "cell_type": "markdown",
   "id": "1b92e1a6",
   "metadata": {},
   "source": [
    "<br/><br/>**<u>REGRESION LOGISTICA CON GRID SEARCH</u>:**<br/><br/><br/><br/>"
   ]
  },
  {
   "cell_type": "code",
   "execution_count": 282,
   "id": "3ad29df4",
   "metadata": {},
   "outputs": [
    {
     "name": "stdout",
     "output_type": "stream",
     "text": [
      "mejor c 0.18181818181818182\n",
      "Con el mejor modelo de regresion logistica obtengo:\n",
      "\t Accuracy de entrenamiento:  83.40415486307838\n",
      "\t Accuracy de test:  63.69426751592356\n"
     ]
    }
   ],
   "source": [
    "lambda_vec = np.array([5,5.25,5.5,6,7])\n",
    "c_vec = 1/lambda_vec\n",
    "parameters = {'C': c_vec}\n",
    "clf = LogisticRegression(max_iter=np.inf)\n",
    "gridSearch = GridSearchCV(clf, param_grid = parameters, n_jobs=-1)\n",
    "gridSearch = gridSearch.fit(X_train,y_train)\n",
    "C_best = gridSearch.best_params_['C']\n",
    "#entreno el mejor modelo\n",
    "clf = LogisticRegression(C = C_best,max_iter=np.inf)\n",
    "print(\"mejor c\",C_best)\n",
    "clf = clf.fit(X_train,y_train)\n",
    "print('Con el mejor modelo de regresion logistica obtengo:')\n",
    "print('\\t Accuracy de entrenamiento: ', clf.score(X_train,y_train)*100)\n",
    "print('\\t Accuracy de test: ', clf.score(X_test,y_test)*100)"
   ]
  },
  {
   "cell_type": "markdown",
   "id": "58b41e31",
   "metadata": {},
   "source": [
    "<br/><br/>**<u>SVM</u>:**<br/><br/><br/><br/>"
   ]
  },
  {
   "cell_type": "code",
   "execution_count": 283,
   "id": "98e59db8",
   "metadata": {
    "scrolled": true
   },
   "outputs": [
    {
     "name": "stdout",
     "output_type": "stream",
     "text": [
      "78.77714825306893\n",
      "61.995753715498935\n"
     ]
    }
   ],
   "source": [
    "from sklearn.svm import SVC\n",
    "clf = SVC().fit(X_train,y_train)\n",
    "print(clf.score(X_train,y_train)*100)\n",
    "print(clf.score(X_test,y_test)*100)"
   ]
  },
  {
   "cell_type": "markdown",
   "id": "80b4ee39",
   "metadata": {},
   "source": [
    "<br/><br/>**<u>REGRESION LOGISTICA</u>:**<br/><br/><br/><br/>"
   ]
  },
  {
   "cell_type": "code",
   "execution_count": 284,
   "id": "65e3a6d1",
   "metadata": {},
   "outputs": [
    {
     "name": "stdout",
     "output_type": "stream",
     "text": [
      "62.63269639065817\n"
     ]
    }
   ],
   "source": [
    "clf = LogisticRegression(random_state=0,max_iter=np.inf).fit(X_train, y_train)\n",
    "print(clf.score(X_test, y_test)*100)"
   ]
  }
 ],
 "metadata": {
  "kernelspec": {
   "display_name": "Python 3",
   "language": "python",
   "name": "python3"
  },
  "language_info": {
   "codemirror_mode": {
    "name": "ipython",
    "version": 3
   },
   "file_extension": ".py",
   "mimetype": "text/x-python",
   "name": "python",
   "nbconvert_exporter": "python",
   "pygments_lexer": "ipython3",
   "version": "3.8.8"
  }
 },
 "nbformat": 4,
 "nbformat_minor": 5
}
