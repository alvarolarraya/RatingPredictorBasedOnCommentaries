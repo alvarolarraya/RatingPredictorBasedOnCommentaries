{
 "cells": [
  {
   "cell_type": "code",
   "execution_count": 29,
   "id": "648bf9d1",
   "metadata": {},
   "outputs": [],
   "source": [
    "import requests as req\n",
    "import matplotlib.pyplot as plt\n",
    "from bs4 import BeautifulSoup\n",
    "from sklearn import metrics\n",
    "import numpy as np\n",
    "import re\n",
    "from nltk.stem import SnowballStemmer\n",
    "from nltk import word_tokenize\n",
    "from sklearn.feature_extraction.text import CountVectorizer\n",
    "from sklearn.feature_extraction.text import TfidfTransformer\n",
    "from sklearn.naive_bayes import MultinomialNB\n",
    "from sklearn.model_selection import train_test_split\n",
    "from sklearn.pipeline import Pipeline\n",
    "from sklearn.preprocessing import PolynomialFeatures, StandardScaler\n",
    "from sklearn.model_selection import ShuffleSplit\n",
    "from sklearn.linear_model import LogisticRegression\n",
    "from sklearn.metrics import mean_squared_error\n",
    "from sklearn.model_selection import GridSearchCV\n",
    "from nltk.corpus import stopwords\n",
    "from sklearn.model_selection import cross_validate\n",
    "from sklearn.metrics import plot_confusion_matrix\n",
    "from funciones import getData,getNextPage,getComentarios,getEstrellas,tokenizar,crearCorpus,leerLibro,preprocesar"
   ]
  },
  {
   "cell_type": "markdown",
   "id": "38f89983",
   "metadata": {},
   "source": [
    "<br/><br/>**<u>OBTENCION DE DATOS</u>:**<br/><br/><br/><br/>"
   ]
  },
  {
   "cell_type": "code",
   "execution_count": 30,
   "id": "1334b904",
   "metadata": {},
   "outputs": [],
   "source": [
    "# Genero un array de urls de libros que vamos a utilizar.\n",
    "urls = ['https://www.amazon.es/SUERTE-IDIOTAS-Novela-adictiva-acabar%C3%A1s-ebook/product-reviews/B07RBQGXVX/ref=cm_cr_dp_d_show_all_btm?ie=UTF8&reviewerType=all_reviews',\n",
    "        'https://www.amazon.es/Par%C3%ADs-puede-esperar-Especial-Confinamiento-ebook/product-reviews/B087CSCB5L/ref=cm_cr_dp_d_show_all_btm?ie=UTF8&reviewerType=all_reviews',\n",
    "       'https://www.amazon.es/DAMA-BLANCA-cuestionar%C3%A1-l%C3%ADmites-prohibido-ebook/product-reviews/B082PZT2KW/ref=cm_cr_dp_d_show_all_btm?ie=UTF8&reviewerType=all_reviews',\n",
    "       'https://www.amazon.es/Siete-libros-para-Eva-Santiago-ebook/product-reviews/B01HVYEAA8/ref=cm_cr_dp_d_show_all_btm?ie=UTF8&reviewerType=all_reviews',\n",
    "       'https://www.amazon.es/REDENCI%C3%93N-novela-revelaci%C3%B3n-Fernando-Gamboa-ebook/product-reviews/B07QW5QQM3/ref=cm_cr_dp_d_show_all_btm?ie=UTF8&reviewerType=all_reviews',\n",
    "       'https://www.amazon.es/Maldici%C3%B3n-los-Montreal-misterio-suspense-ebook/product-reviews/B01HWOH1TY/ref=cm_cr_dp_d_show_all_btm?ie=UTF8&reviewerType=all_reviews',\n",
    "       'https://www.amazon.es/Las-doce-puertas-Parte-I-ebook/product-reviews/B07Q6ZFN17/ref=cm_cr_dp_d_show_all_btm?ie=UTF8&reviewerType=all_reviews',\n",
    "       'https://www.amazon.es/soledad-CONTEMPORANEA-Gabriel-Garcia-Marquez/product-reviews/8497592204/ref=cm_cr_dp_d_show_all_btm?ie=UTF8&reviewerType=all_reviews',\n",
    "       ]\n",
    "\n",
    "# Con esto ya tenemos todas las reseñas y estrellas de todos los libros.\n",
    "resenias = []\n",
    "estrellas = []\n",
    "for url in urls:\n",
    "    todosLosComentarios,todasLasEstrellas = leerLibro(url)\n",
    "    resenias.append(todosLosComentarios)\n",
    "    estrellas.append(todasLasEstrellas)\n",
    "    \n",
    "# Pasamos todas las resenias a un array con una reseña por posicion.\n",
    "listadoResenias = []\n",
    "listadoEstrellas = []\n",
    "for i,libro in enumerate(resenias): \n",
    "    for pagina in libro:\n",
    "        for comentario in pagina:\n",
    "            listadoResenias.append(comentario)\n",
    "            \n",
    "for libro in estrellas: \n",
    "    for pagina in libro:\n",
    "        for valoracion in pagina:\n",
    "            listadoEstrellas.append(valoracion)\n",
    "            \n",
    "listadoResenias = np.array(listadoResenias)\n",
    "listadoEstrellas = np.array(listadoEstrellas).astype('int')"
   ]
  },
  {
   "cell_type": "markdown",
   "id": "ce47f8db",
   "metadata": {},
   "source": [
    "<br/><br/>**<u>ANALISIS DEL PROBLEMA</u>:**<br/><br/><br/><br/>"
   ]
  },
  {
   "cell_type": "code",
   "execution_count": 31,
   "id": "04510c34",
   "metadata": {
    "scrolled": true
   },
   "outputs": [
    {
     "name": "stdout",
     "output_type": "stream",
     "text": [
      "Nos encontramos ante un problema muy desbalanceado:\n"
     ]
    },
    {
     "data": {
      "image/png": "[encoded data removed]",
      "text/plain": [
       "<Figure size 432x288 with 1 Axes>"
      ]
     },
     "metadata": {
      "needs_background": "light"
     },
     "output_type": "display_data"
    }
   ],
   "source": [
    "print(\"Nos encontramos ante un problema muy desbalanceado:\")\n",
    "plt.hist(listadoEstrellas,color = 'black')\n",
    "plt.xlabel('estrellas') \n",
    "plt.ylabel('reseñas') \n",
    "plt.title(\"Valoraciones\")\n",
    "plt.show()"
   ]
  },
  {
   "cell_type": "code",
   "execution_count": 32,
   "id": "08fad76f",
   "metadata": {},
   "outputs": [
    {
     "name": "stdout",
     "output_type": "stream",
     "text": [
      "Tenemos 4702 valoraciones:\n",
      "\tDe 1 estrellas: 276\n",
      "\tDe 2 estrellas: 210\n",
      "\tDe 3 estrellas: 379\n",
      "\tDe 4 estrellas: 926\n",
      "\tDe 5 estrellas: 2911\n"
     ]
    }
   ],
   "source": [
    "print(\"Tenemos {} valoraciones:\".format(listadoResenias.shape[0]))\n",
    "reseniasPorValoracion = []\n",
    "for i in range(1,6):\n",
    "    reseniasPorValoracion.append(listadoResenias[listadoEstrellas == i].shape[0])\n",
    "    print(\"\\tDe {} estrellas: {}\".format(i,reseniasPorValoracion[i-1]))"
   ]
  },
  {
   "cell_type": "markdown",
   "id": "c550ec78",
   "metadata": {},
   "source": [
    "<br/><br/>**<u>PODAR EL DATASET</u>:**<br/><br/><br/><br/>"
   ]
  },
  {
   "cell_type": "code",
   "execution_count": 33,
   "id": "49898fe7",
   "metadata": {},
   "outputs": [],
   "source": [
    "listadoReseniasPodadas = listadoResenias\n",
    "listadoEstrellasPodadas = listadoEstrellas\n",
    "# #me quedo de cada estrella con el mismo numero de resenias, con el numero de resenias\n",
    "# #que tenga la estrella que menos tiene\n",
    "# listadoReseniasPodadas = []\n",
    "# menosReseniasValoracion = min(reseniasPorValoracion)\n",
    "# listadoEstrellasPodadas = np.empty((menosReseniasValoracion*5,))\n",
    "# for valoracion in [1,2,3,4,5]:\n",
    "#     aux = listadoResenias[listadoEstrellas == valoracion]\n",
    "#     permutacion = np.random.permutation(aux.shape[0])\n",
    "#     aux = aux[permutacion]\n",
    "#     listadoReseniasPodadas += list(aux[:menosReseniasValoracion])\n",
    "#     listadoEstrellasPodadas[(valoracion-1)*menosReseniasValoracion:valoracion*menosReseniasValoracion] = valoracion\n",
    "# listadoReseniasPodadas = np.array(listadoReseniasPodadas)\n",
    "# permutacion = np.random.permutation(listadoReseniasPodadas.shape[0])\n",
    "# listadoReseniasPodadas = listadoReseniasPodadas[permutacion]\n",
    "# listadoEstrellasPodadas = listadoEstrellasPodadas[permutacion]\n",
    "# print(\"Nos hemos quedado con {} resenias balanceadas\".format(listadoReseniasPodadas.shape[0]))\n"
   ]
  },
  {
   "cell_type": "code",
   "execution_count": 34,
   "id": "0fe4c2c9",
   "metadata": {},
   "outputs": [
    {
     "data": {
      "image/png": "[encoded data removed]",
      "text/plain": [
       "<Figure size 432x288 with 1 Axes>"
      ]
     },
     "metadata": {
      "needs_background": "light"
     },
     "output_type": "display_data"
    }
   ],
   "source": [
    "plt.hist(listadoEstrellasPodadas,color = 'black')\n",
    "plt.xlabel('estrellas') \n",
    "plt.ylabel('reseñas') \n",
    "plt.title(\"Valoraciones\")\n",
    "plt.show()"
   ]
  },
  {
   "cell_type": "markdown",
   "id": "1226af32",
   "metadata": {},
   "source": [
    "<br/><br/>**<u>PREPROCESADO</u>:**<br/><br/><br/><br/>"
   ]
  },
  {
   "cell_type": "code",
   "execution_count": 35,
   "id": "bfd35f15",
   "metadata": {},
   "outputs": [],
   "source": [
    "listadoReseniasPodadas = preprocesar(listadoReseniasPodadas)"
   ]
  },
  {
   "cell_type": "markdown",
   "id": "34ab7c7a",
   "metadata": {},
   "source": [
    "<br/><br/>**<u>STEMMIZAR</u>:**<br/><br/><br/><br/>"
   ]
  },
  {
   "cell_type": "code",
   "execution_count": 99,
   "id": "1bc459a4",
   "metadata": {},
   "outputs": [
    {
     "name": "stdout",
     "output_type": "stream",
     "text": [
      " cuand junt al titul de un libr se acompañ un autobomb tan marc com este ya te hac sospech si las critic en general son tan buen tamb de tod form no pued dec que el libr sea mal es bastant distr y much mejor que otros anglosajon que idolatr com dan brownparec que hay unos parametr fij en la novel negr el protagon deb ser casi alcohol hast el punt que parec dificil que pued hac tod lo que hac con unas dosis semej de alcohol en sangr por supuest de una integr intach sin doblec nunc acept soborn ni se aprovech de las muj que se pon a tir etc etcel mal al final no parec tan idiot salv por el motiv que le muev que result increibl real es bastant list\n"
     ]
    }
   ],
   "source": [
    "#no lo aplicamos porque baja el resultado\n",
    "listadoReseniasPodadas = crearCorpus(listadoReseniasPodadas)\n",
    "print(listadoReseniasPodadas[0])"
   ]
  },
  {
   "cell_type": "markdown",
   "id": "27d54c00",
   "metadata": {},
   "source": [
    "<br/><br/>**<u>BAG OF WORDS</u>:**<br/><br/><br/><br/>"
   ]
  },
  {
   "cell_type": "code",
   "execution_count": 100,
   "id": "69fd786e",
   "metadata": {},
   "outputs": [],
   "source": [
    "stop_words = set(stopwords.words('spanish'))\n",
    "vectorizerDadoVocabulario = CountVectorizer(stop_words = stop_words,min_df=0.001)\n",
    "bagOfWords = vectorizerDadoVocabulario.fit_transform(listadoReseniasPodadas)"
   ]
  },
  {
   "cell_type": "markdown",
   "id": "0eae9615",
   "metadata": {},
   "source": [
    "<br/><br/>**<u>TFIDF</u>:**<br/><br/><br/><br/>"
   ]
  },
  {
   "cell_type": "code",
   "execution_count": 101,
   "id": "ab8e5252",
   "metadata": {},
   "outputs": [],
   "source": [
    "tfidf = TfidfTransformer()\n",
    "bagOfWords = tfidf.fit_transform(bagOfWords)"
   ]
  },
  {
   "cell_type": "code",
   "execution_count": 126,
   "id": "52014203",
   "metadata": {},
   "outputs": [
    {
     "name": "stdout",
     "output_type": "stream",
     "text": [
      "['abandon', 'abiert', 'able', 'about', 'abrir', 'absolut', 'absorb', 'absorbent', 'absurd', 'abund', 'aburr', 'abus', 'acab', 'accion', 'acel', 'acept', 'acerc', 'acert', 'acev', 'aciert', 'acompañ', 'aconsej', 'acontec', 'acord', 'acostumbr', 'actos', 'actu', 'actual', 'adecu', 'adel', 'adem', 'adentr', 'adiccion', 'adict', 'adivin', 'admir', 'adolescent', 'ador', 'adqu', 'adult', 'afect', 'aficion', 'afirm', 'after', 'again', 'agent', 'agil', 'ago', 'agot', 'agrad', 'agradec', 'ahi', 'ahor', 'air', 'alarg', 'alcanz', 'alegr', 'alej', 'alert', 'algui', 'algun', 'ali', 'alici', 'alient', 'all', 'alla', 'alli', 'alma', 'alrededor', 'also', 'alt', 'altern', 'alto', 'altur', 'alucin', 'always', 'am', 'amanec', 'amant', 'amarg', 'amazing', 'amazon', 'ambient', 'ambos', 'amen', 'amer', 'americ', 'amig', 'amist', 'amor', 'ampli', 'an', 'anche', 'and', 'anecdot', 'angusti', 'anim', 'anos', 'anoth', 'ansi', 'anterior', 'anticip', 'antigu', 'any', 'anyon', 'aparec', 'aparent', 'apart', 'apasion', 'apen', 'apetec', 'apocalipt', 'aport', 'apreci', 'aprend', 'aprovech', 'apuest', 'apunt', 'aqu', 'aquel', 'aquell', 'aqui', 'arbol', 'arcadi', 'are', 'argument', 'argumental', 'arrepient', 'arriv', 'arrivat', 'arte', 'artificial', 'as', 'asegur', 'asesin', 'asesinat', 'asi', 'asombr', 'aspect', 'asust', 'at', 'atencion', 'atent', 'aterr', 'atra', 'atract', 'atrap', 'atras', 'atrev', 'audaz', 'auf', 'aument', 'aun', 'aunqu', 'aureli', 'autent', 'author', 'authors', 'autor', 'avanc', 'avanz', 'avec', 'aventur', 'averigu', 'avis', 'ayud', 'añad', 'año', 'años', 'back', 'badal', 'baj', 'barat', 'barcelon', 'bas', 'basic', 'bastant', 'be', 'beautiful', 'becaus', 'been', 'befor', 'bell', 'bem', 'ben', 'best', 'bett', 'bibliotec', 'bien', 'blanc', 'boc', 'bolsill', 'bom', 'bond', 'bonit', 'book', 'books', 'bought', 'brav', 'brev', 'brillant', 'brutal', 'buch', 'buen', 'buend', 'buendi', 'buenisim', 'busc', 'busqu', 'but', 'by', 'cab', 'cabal', 'cabez', 'cad', 'cae', 'caer', 'caf', 'cal', 'call', 'cam', 'cambi', 'camin', 'can', 'cancion', 'cans', 'cansin', 'cant', 'cap', 'capac', 'capaz', 'capit', 'capitul', 'capolavor', 'capt', 'captur', 'car', 'caract', 'caracterist', 'caracteriz', 'carg', 'carismat', 'cariñ', 'cas', 'casi', 'castell', 'casual', 'catal', 'catol', 'caus', 'cautiv', 'ce', 'centr', 'central', 'cerc', 'cerr', 'charact', 'characters', 'che', 'chi', 'chic', 'cien', 'cienci', 'cient', 'cierr', 'ciert', 'cigarrill', 'cin', 'cinc', 'circul', 'circunst', 'ciud', 'clar', 'clas', 'clasic', 'classic', 'clav', 'clich', 'clim', 'climat', 'club', 'cobr', 'coch', 'cog', 'coherent', 'coj', 'col', 'coleccion', 'colm', 'colombi', 'color', 'com', 'combin', 'comenc', 'coment', 'comentari', 'comenz', 'comet', 'comic', 'comienz', 'comod', 'comp', 'compart', 'compañ', 'compens', 'complej', 'complet', 'complic', 'component', 'comport', 'compr', 'comprend', 'comun', 'concept', 'concret', 'condicion', 'condition', 'conect', 'conexion', 'conf', 'confi', 'confin', 'confirm', 'conform', 'confund', 'confusing', 'conjunt', 'conoc', 'conoci', 'conozc', 'consegu', 'consid', 'consig', 'consigliat', 'consigu', 'consp', 'constant', 'constru', 'construccion', 'cont', 'contemporan', 'content', 'context', 'conti', 'continu', 'contr', 'contrari', 'control', 'convenc', 'convert', 'conviert', 'copy', 'coraj', 'corazon', 'coronavirus', 'corr', 'correct', 'corrector', 'corrupcion', 'cort', 'cortit', 'cos', 'cost', 'costumbr', 'cotidi', 'could', 'cov', 'cre', 'creativ', 'crec', 'creibl', 'crim', 'cript', 'critic', 'crud', 'cruz', 'cuadr', 'cualqu', 'cualqui', 'cuand', 'cuant', 'cuarent', 'cuart', 'cuatr', 'cuent', 'cuerp', 'cuest', 'cuestion', 'cuid', 'culpabl', 'cultur', 'cumbr', 'cumpl', 'curi', 'cuy', 'da', 'dab', 'dad', 'dam', 'dan', 'dand', 'dans', 'dar', 'darl', 'darn', 'dars', 'dart', 'das', 'dat', 'deb', 'debil', 'dec', 'decepcion', 'decision', 'decl', 'dedic', 'defin', 'definit', 'definitely', 'defraud', 'dei', 'dej', 'delant', 'delici', 'delivery', 'dell', 'dem', 'demasi', 'dens', 'dentr', 'der', 'derech', 'des', 'desagr', 'desaparec', 'desaparicion', 'desarroll', 'desastr', 'descabell', 'descans', 'descarg', 'desconect', 'desconoc', 'describ', 'descripcion', 'descript', 'descrit', 'descubiert', 'descubr', 'desd', 'desencad', 'desenlac', 'desesp', 'desgraci', 'despert', 'despiert', 'despu', 'destac', 'destin', 'desvel', 'detall', 'detectiv', 'determin', 'detr', 'devolv', 'devor', 'di', 'dia', 'dialog', 'diari', 'dias', 'dibuj', 'dic', 'dich', 'dictionary', 'did', 'die', 'dies', 'diez', 'diferent', 'difficult', 'dificil', 'dificult', 'dig', 'digital', 'dign', 'dij', 'din', 'dinam', 'dio', 'dir', 'direct', 'dirig', 'disfrut', 'disparat', 'dispon', 'distint', 'distop', 'distr', 'div', 'divers', 'divert', 'do', 'dobl', 'doc', 'document', 'does', 'dolor', 'don', 'dond', 'dont', 'dorm', 'dos', 'dosis', 'doy', 'dram', 'drog', 'du', 'dud', 'dulc', 'dun', 'dur', 'durant', 'easy', 'ebook', 'econom', 'edad', 'edicion', 'edition', 'editorial', 'ediçã', 'efect', 'ein', 'ejempl', 'elabor', 'eleccion', 'eleg', 'element', 'elen', 'eli', 'ello', 'em', 'embarg', 'emocion', 'emot', 'empaquet', 'empat', 'empatiz', 'empec', 'empedern', 'empeor', 'empez', 'empiez', 'enamor', 'encaj', 'encant', 'encerr', 'encierr', 'encim', 'encontr', 'encuadern', 'encuentr', 'end', 'enfrent', 'enganch', 'enganchart', 'engañ', 'english', 'enhorabu', 'enjoy', 'enlac', 'enlaz', 'enorm', 'enough', 'enred', 'enrev', 'ensegu', 'enseñ', 'entend', 'enter', 'entertaining', 'entiend', 'entonc', 'entorn', 'entrar', 'entras', 'entrañ', 'entreg', 'entrelaz', 'entret', 'entreti', 'entusiasm', 'envi', 'envidi', 'envolv', 'envolvent', 'envuelt', 'envuelv', 'epilog', 'episodi', 'epoc', 'equivoc', 'equivoqu', 'errat', 'error', 'escap', 'escas', 'escen', 'escenari', 'escog', 'escond', 'escrib', 'escrit', 'escritor', 'escritur', 'escuch', 'esfuerz', 'espaci', 'espanhol', 'españ', 'español', 'especial', 'espectacul', 'esper', 'espos', 'est', 'estab', 'estam', 'estan', 'esten', 'estereotip', 'estil', 'estrell', 'estructur', 'estudi', 'estup', 'estupend', 'estuv', 'et', 'etap', 'etc', 'etern', 'eur', 'eva', 'evad', 'even', 'ever', 'every', 'everyon', 'evident', 'evit', 'evolu', 'exact', 'exag', 'excelent', 'excellent', 'excepcional', 'except', 'exces', 'exist', 'exit', 'expect', 'experient', 'experiment', 'explic', 'expres', 'expresion', 'exquisit', 'extens', 'extra', 'extraordinari', 'extrañ', 'extrem', 'fa', 'fabul', 'facil', 'factibl', 'fall', 'fals', 'falt', 'fam', 'famili', 'family', 'fan', 'fanat', 'fant', 'fantasi', 'fantast', 'fantasy', 'far', 'fascin', 'fast', 'favor', 'favorit', 'fech', 'feel', 'felic', 'felicit', 'feliz', 'femenin', 'fern', 'few', 'ficcion', 'fictici', 'figur', 'fin', 'final', 'finaliz', 'finall', 'finalmuy', 'find', 'finish', 'first', 'floj', 'flor', 'flu', 'fond', 'for', 'form', 'format', 'forward', 'forz', 'fot', 'found', 'franc', 'fras', 'frenet', 'frent', 'fresc', 'fri', 'from', 'fuer', 'fuert', 'fuerz', 'fues', 'full', 'funcion', 'fund', 'fundamental', 'funeral', 'futur', 'gab', 'gabriel', 'galici', 'galleg', 'gamb', 'gan', 'garbant', 'garc', 'garci', 'gen', 'genealog', 'general', 'geni', 'genial', 'genius', 'gent', 'get', 'ggm', 'gift', 'gir', 'giron', 'giv', 'go', 'going', 'golp', 'good', 'got', 'grab', 'graci', 'gramatical', 'gran', 'grand', 'grandi', 'grat', 'gratis', 'great', 'grup', 'guard', 'guerr', 'guin', 'guion', 'guiñ', 'gust', 'guzm', 'hab', 'habi', 'habil', 'habit', 'habl', 'habr', 'hac', 'haci', 'had', 'hag', 'happy', 'har', 'hard', 'hast', 'hat', 'hav', 'having', 'heard', 'hech', 'help', 'hem', 'her', 'herm', 'heroin', 'hic', 'high', 'highly', 'hij', 'hil', 'hilv', 'his', 'histor', 'histori', 'historial', 'history', 'hiz', 'ho', 'hoj', 'hol', 'hombr', 'homenaj', 'hor', 'how', 'hoy', 'hub', 'hum', 'humild', 'humor', 'hundr', 'iba', 'ich', 'ide', 'ideal', 'identific', 'ideolog', 'idiom', 'idiot', 'ido', 'if', 'igual', 'il', 'ilusion', 'ilustr', 'im', 'imag', 'imagin', 'imaginari', 'imagination', 'impacient', 'impact', 'impar', 'impec', 'imper', 'imperd', 'impid', 'import', 'impos', 'impredec', 'imprescind', 'impresion', 'imprim', 'in', 'incapaz', 'incertidumbr', 'incit', 'inclu', 'inclus', 'incondicional', 'incongruent', 'incred', 'increibl', 'independent', 'independient', 'indic', 'indiferent', 'inesp', 'infantil', 'infinit', 'inform', 'ingeni', 'ingredient', 'inici', 'inicial', 'inmediat', 'inmens', 'inmers', 'inmigr', 'innecesari', 'inolv', 'inquiet', 'insoport', 'inspector', 'inspir', 'instant', 'integr', 'inteligent', 'intencion', 'intens', 'intent', 'inter', 'intercal', 'interesting', 'intermin', 'internet', 'into', 'intrep', 'intrig', 'introduc', 'intu', 'invent', 'inverosimil', 'investig', 'invit', 'involucr', 'ir', 'irreal', 'is', 'islam', 'ist', 'it', 'its', 'ive', 'ja', 'jai', 'jam', 'je', 'jos', 'jov', 'joy', 'juan', 'jud', 'judi', 'jueg', 'jug', 'juici', 'junt', 'just', 'justici', 'juvenil', 'keeps', 'kindl', 'know', 'labi', 'lad', 'lament', 'languag', 'larg', 'lastim', 'lat', 'latin', 'latinoameric', 'lea', 'leas', 'lector', 'lectur', 'lee', 'leen', 'leer', 'leerl', 'leerm', 'leers', 'lees', 'legg', 'lei', 'leid', 'lej', 'lengu', 'lenguaj', 'lent', 'leo', 'letr', 'lett', 'letteratur', 'lettur', 'lev', 'leyend', 'leyendol', 'lho', 'libr', 'librol', 'lid', 'lif', 'lig', 'lik', 'limit', 'lin', 'lind', 'lingu', 'lio', 'lios', 'lir', 'list', 'literal', 'literari', 'literatur', 'littl', 'livr', 'llam', 'llan', 'lleg', 'llen', 'llev', 'llevad', 'llor', 'loc', 'localiz', 'locur', 'logic', 'logr', 'long', 'look', 'looking', 'lot', 'lov', 'luc', 'luch', 'lueg', 'lug', 'lun', 'luz', 'ma', 'macond', 'madr', 'madrug', 'madur', 'maestr', 'magi', 'magic', 'magical', 'magistral', 'magnif', 'mais', 'mak', 'mal', 'maldicion', 'malisim', 'maltrat', 'man', 'manej', 'manipul', 'mant', 'mantenert', 'manti', 'mantuv', 'manuel', 'many', 'map', 'mar', 'maravill', 'marc', 'marg', 'maris', 'marqu', 'marquez', 'marquezs', 'mart', 'martin', 'martinez', 'marz', 'mas', 'masculin', 'masl', 'mast', 'masterpiec', 'mat', 'material', 'matrimoni', 'maxim', 'mayor', 'mañ', 'med', 'medi', 'mediocr', 'mejor', 'memori', 'men', 'mencion', 'menor', 'mensaj', 'ment', 'menud', 'merec', 'merit', 'mes', 'met', 'metafor', 'metert', 'metr', 'mezcl', 'mia', 'mied', 'miel', 'mientr', 'mil', 'min', 'minim', 'minut', 'mio', 'mir', 'mism', 'miss', 'misteri', 'mit', 'mod', 'modern', 'molt', 'mom', 'moment', 'monoton', 'monton', 'mor', 'most', 'mostr', 'motiv', 'movimient', 'much', 'muchisim', 'muer', 'muert', 'muestr', 'muev', 'muit', 'muj', 'multipl', 'multitud', 'mund', 'mundial', 'must', 'my', 'na', 'nac', 'nacional', 'nad', 'nadi', 'nam', 'narr', 'narracion', 'narrador', 'narrat', 'narrativ', 'natal', 'nativ', 'natural', 'ne', 'nec', 'necesari', 'necesit', 'need', 'negat', 'negr', 'nei', 'nell', 'nev', 'new', 'nic', 'nicht', 'ningun', 'nivel', 'niñ', 'nobel', 'noch', 'nombr', 'non', 'normal', 'nosotr', 'nostalgi', 'not', 'notabl', 'notici', 'nov', 'novel', 'novels', 'novi', 'now', 'nud', 'nuestr', 'nuev', 'num', 'nunc', 'nuri', 'nuriet', 'não', 'objet', 'oblig', 'obligatori', 'obra', 'obras', 'obstacul', 'obstant', 'obvi', 'ocasion', 'ocho', 'ocup', 'ocurr', 'odi', 'of', 'ofrec', 'ojal', 'ojos', 'ok', 'olvid', 'on', 'once', 'one', 'only', 'opcion', 'opin', 'opinion', 'oportun', 'or', 'orden', 'order', 'orig', 'original', 'ortograf', 'oscur', 'other', 'ottim', 'out', 'over', 'padr', 'pag', 'pagin', 'pais', 'paj', 'palabr', 'pandemi', 'pap', 'papel', 'par', 'paralel', 'parec', 'parej', 'paris', 'parraf', 'part', 'particip', 'particul', 'pas', 'pasaj', 'pasion', 'past', 'pat', 'paus', 'peculi', 'ped', 'peg', 'pel', 'peli', 'pelicul', 'peligr', 'pelin', 'pen', 'pendient', 'pens', 'pensamient', 'peopl', 'peor', 'pequeñ', 'per', 'percib', 'perd', 'perfeccion', 'perfect', 'perfil', 'permanent', 'permit', 'person', 'personaj', 'personal', 'perspect', 'però', 'pes', 'pesim', 'pic', 'pie', 'piec', 'piel', 'piens', 'pierd', 'pill', 'pincel', 'pint', 'pist', 'plac', 'plag', 'plan', 'plant', 'planteamient', 'plausibl', 'play', 'plen', 'plum', 'plus', 'pobr', 'poc', 'pod', 'podi', 'podr', 'podri', 'polic', 'polici', 'policiac', 'policial', 'polit', 'pon', 'pong', 'poquit', 'porqu', 'port', 'pos', 'posibil', 'posibl', 'posit', 'posterior', 'pour', 'practic', 'preci', 'precipit', 'precis', 'predec', 'pref', 'prefi', 'pregunt', 'premi', 'preocup', 'prescind', 'present', 'prest', 'pretend', 'pretension', 'previ', 'previs', 'pric', 'prim', 'principal', 'principi', 'print', 'pris', 'priz', 'probabl', 'problem', 'produc', 'product', 'profesional', 'profund', 'profundiz', 'progr', 'promet', 'pront', 'propi', 'pros', 'protagon', 'protagoniz', 'provoc', 'proxim', 'prueb', 'psicolog', 'public', 'pud', 'puebl', 'pued', 'puert', 'pues', 'puest', 'punt', 'puntuacion', 'puntual', 'pur', 'purch', 'put', 'quality', 'qued', 'quer', 'quest', 'qui', 'quijot', 'quis', 'quit', 'quiz', 'radical', 'rambl', 'rap', 'rapidez', 'rar', 'rat', 'ratit', 'raudal', 'razon', 'reaccion', 'read', 'reading', 'real', 'realism', 'realist', 'reality', 'realiz', 'really', 'realment', 'rebec', 'rebusc', 'recib', 'recient', 'recom', 'recomend', 'recommend', 'reconoc', 'reconozc', 'record', 'recr', 'recuerd', 'recup', 'recurrent', 'recurs', 'redaccion', 'redact', 'redencion', 'redond', 'referent', 'refi', 'reflej', 'reflexion', 'refugi', 'regal', 'regr', 'regul', 'rein', 'reit', 'rel', 'relacion', 'relaj', 'relat', 'relectur', 'relev', 'religi', 'religion', 'rell', 'remedi', 'rememb', 'repentin', 'repet', 'repeticion', 'repetit', 'repit', 'replet', 'represent', 'requi', 'reseñ', 'resolu', 'resolv', 'resp', 'respect', 'respet', 'rest', 'resuelt', 'resuelv', 'result', 'resum', 'resurreccion', 'ret', 'retom', 'retorc', 'retrat', 'revel', 'review', 'ric', 'rich', 'ridicul', 'riesg', 'riley', 'ritm', 'rob', 'robert', 'robinson', 'rocambolesc', 'rod', 'roj', 'romanc', 'romant', 'romantic', 'romp', 'ros', 'rot', 'roz', 'sab', 'sabor', 'sabr', 'sac', 'sag', 'sagr', 'said', 'sal', 'salg', 'salt', 'salud', 'salv', 'sam', 'santiag', 'saqu', 'satisfactori', 'satisfech', 'say', 'school', 'second', 'secret', 'secuestr', 'segu', 'seguidor', 'segun', 'segund', 'segur', 'seleccion', 'sell', 'sem', 'sencill', 'sensacion', 'sent', 'sentimient', 'sep', 'ser', 'seri', 'serv', 'several', 'señor', 'she', 'should', 'si', 'sicili', 'sid', 'siempr', 'siend', 'sient', 'siet', 'sig', 'sigl', 'sigu', 'siguient', 'simil', 'similitud', 'simpl', 'simplement', 'simplon', 'simply', 'sinc', 'sinopsis', 'siqu', 'sirv', 'siti', 'situ', 'situacion', 'small', 'so', 'sobr', 'sobrem', 'sobretod', 'soci', 'social', 'sol', 'solitud', 'solt', 'solucion', 'som', 'sonris', 'sorpr', 'sorprend', 'sorprendent', 'sorprendert', 'sos', 'sospech', 'soñ', 'spagnol', 'spanish', 'spoil', 'sr', 'stars', 'start', 'still', 'stop', 'stori', 'story', 'style', 'suav', 'sub', 'suc', 'sucesion', 'sudameric', 'suel', 'suelt', 'suert', 'sueñ', 'suficient', 'sufr', 'sum', 'sumerg', 'sup', 'supon', 'supong', 'supuest', 'sur', 'surg', 'surreal', 'suspens', 'sutil', 'suy', 'tak', 'tal', 'tamañ', 'tambi', 'tampoc', 'tan', 'tant', 'tap', 'tard', 'tecnic', 'tecnolog', 'tedi', 'telenovel', 'tem', 'temat', 'temporal', 'ten', 'tendenci', 'tendr', 'tenert', 'teng', 'teni', 'tension', 'terc', 'terci', 'termin', 'terribl', 'terror', 'test', 'text', 'than', 'thanks', 'that', 'the', 'them', 'then', 'ther', 'they', 'thing', 'think', 'this', 'though', 'thought', 'thrill', 'through', 'tiemp', 'tien', 'tiern', 'tim', 'tint', 'tip', 'tipic', 'tir', 'tiron', 'titul', 'to', 'toc', 'tod', 'todav', 'tom', 'tont', 'too', 'top', 'topic', 'toqu', 'torn', 'tortur', 'total', 'tra', 'trabaj', 'traduccion', 'tragedi', 'tragic', 'tram', 'tranquil', 'transcurr', 'translation', 'transmit', 'transport', 'tras', 'trasl', 'trat', 'trav', 'tre', 'tremend', 'trep', 'tres', 'trist', 'tristez', 'truly', 'très', 'tutt', 'tuv', 'tuy', 'twic', 'ubic', 'ulis', 'ultim', 'um', 'unas', 'und', 'understand', 'une', 'unic', 'unid', 'univers', 'universal', 'unlimit', 'until', 'up', 'ursul', 'usa', 'usand', 'use', 'used', 'uso', 'utiliz', 'va', 'vacacion', 'val', 'valenci', 'valient', 'valor', 'vam', 'van', 'vari', 'vas', 'vay', 've', 'vec', 'vei', 'veloc', 'vem', 'ven', 'vend', 'veng', 'venganz', 'vent', 'veo', 'ver', 'verd', 'verdad', 'vergüenz', 'verl', 'verosimil', 'version', 'vertigin', 'very', 'ves', 'vez', 'vi', 'viaj', 'vibrant', 'victim', 'vid', 'vidal', 'vien', 'viend', 'vig', 'vil', 'violenci', 'virtud', 'vision', 'visionari', 'visit', 'vist', 'visualiz', 'vital', 'viv', 'vivenci', 'vocabulari', 'vol', 'volt', 'volum', 'volv', 'von', 'vox', 'voy', 'vuelt', 'vuelv', 'want', 'was', 'way', 'we', 'well', 'wer', 'what', 'when', 'wher', 'which', 'who', 'why', 'will', 'with', 'won', 'wonderful', 'words', 'work', 'works', 'world', 'worth', 'would', 'writ', 'writing', 'writt', 'xiv', 'yag', 'years', 'yih', 'yoland', 'you', 'your', 'zon', 'zu']\n"
     ]
    }
   ],
   "source": [
    "print(vectorizerDadoVocabulario.get_feature_names())"
   ]
  },
  {
   "cell_type": "markdown",
   "id": "5d111b7c",
   "metadata": {},
   "source": [
    "<br/><br/>**<u>HOLD OUT</u>:**<br/><br/><br/><br/>"
   ]
  },
  {
   "cell_type": "code",
   "execution_count": 103,
   "id": "90ed40bc",
   "metadata": {},
   "outputs": [],
   "source": [
    "X_train, X_test, y_train, y_test = train_test_split(bagOfWords,listadoEstrellasPodadas, stratify=listadoEstrellasPodadas,test_size=0.05,random_state=0)"
   ]
  },
  {
   "cell_type": "markdown",
   "id": "18a8dcbe",
   "metadata": {},
   "source": [
    "<br/><br/>**<u>NB MULTINOMIAL CON HOLD OUT Y GRID SEARCH</u>:**<br/><br/><br/><br/>"
   ]
  },
  {
   "cell_type": "code",
   "execution_count": 104,
   "id": "0ebc7775",
   "metadata": {},
   "outputs": [
    {
     "name": "stdout",
     "output_type": "stream",
     "text": [
      "mejor alpha 1\n",
      "Con el mejor modelo de nb multinomial obtengo:\n",
      "\t Accuracy de entrenamiento:  65.5844155844156\n",
      "\t Accuracy de test:  62.71186440677966\n"
     ]
    }
   ],
   "source": [
    "alphas_a_probar = [1,2,3,4,5]\n",
    "parameters = {'alpha': alphas_a_probar}\n",
    "clf = MultinomialNB()\n",
    "gridSearch = GridSearchCV(clf, param_grid = parameters, n_jobs=-1)\n",
    "gridSearch = gridSearch.fit(X_train,y_train)\n",
    "best_alpha = gridSearch.best_params_['alpha']\n",
    "clf = MultinomialNB(alpha = best_alpha)\n",
    "print(\"mejor alpha\",best_alpha)\n",
    "clf = clf.fit(X_train,y_train)\n",
    "print('Con el mejor modelo de nb multinomial obtengo:')\n",
    "print('\\t Accuracy de entrenamiento: ', clf.score(X_train,y_train)*100)\n",
    "print('\\t Accuracy de test: ', clf.score(X_test,y_test)*100)"
   ]
  },
  {
   "cell_type": "markdown",
   "id": "2f35aa79",
   "metadata": {},
   "source": [
    "<br/><br/>**<u>NB MULTINOMIAL CON CROSS VALIDATE</u>:**<br/><br/><br/><br/>"
   ]
  },
  {
   "cell_type": "code",
   "execution_count": 106,
   "id": "3027be7e",
   "metadata": {},
   "outputs": [
    {
     "name": "stdout",
     "output_type": "stream",
     "text": [
      "[0.62666667 0.64       0.64       0.64       0.62666667 0.61333333\n",
      " 0.61333333 0.62666667 0.64       0.62666667 0.62666667 0.64\n",
      " 0.6        0.61333333 0.65333333 0.62666667 0.62666667 0.61333333\n",
      " 0.6        0.62666667 0.68       0.61333333 0.61333333 0.61333333\n",
      " 0.62666667 0.61333333 0.63513514 0.64864865 0.64864865 0.63513514\n",
      " 0.66216216 0.60810811 0.60810811 0.62162162 0.60810811 0.60810811\n",
      " 0.62162162 0.63513514 0.67567568 0.60810811 0.64864865 0.63513514\n",
      " 0.66216216 0.67567568 0.64864865 0.66216216 0.64864865 0.63513514\n",
      " 0.63513514 0.62162162 0.63513514 0.60810811 0.64864865 0.62162162\n",
      " 0.63513514 0.63513514 0.64864865 0.59459459 0.64864865 0.60810811]\n",
      "0.6271186440677966\n"
     ]
    }
   ],
   "source": [
    "alphas_a_probar = [0,1,2,3,4,5]\n",
    "parameters = {'alpha': alphas_a_probar}\n",
    "cv_results = cross_validate(MultinomialNB(), X_train, y_train, cv=60,return_estimator=True)\n",
    "estimadores = cv_results['estimator']\n",
    "resultadosValidacion = cv_results['test_score']\n",
    "mejorEstimador = estimadores[np.argmax(resultadosValidacion)]\n",
    "print(resultadosValidacion)\n",
    "print(mejorEstimador.score(X_test,y_test))"
   ]
  },
  {
   "cell_type": "markdown",
   "id": "1b92e1a6",
   "metadata": {},
   "source": [
    "<br/><br/>**<u>REGRESION LOGISTICA CON GRID SEARCH</u>:**<br/><br/><br/><br/>"
   ]
  },
  {
   "cell_type": "code",
   "execution_count": 107,
   "id": "3ad29df4",
   "metadata": {},
   "outputs": [
    {
     "name": "stdout",
     "output_type": "stream",
     "text": [
      "mejor c 0.2\n",
      "Con el mejor modelo de regresion logistica obtengo:\n",
      "\t Accuracy de entrenamiento:  63.927451858486336\n",
      "\t Accuracy de test:  63.13559322033898\n"
     ]
    }
   ],
   "source": [
    "lambda_vec = np.array([5,5.25,5.5,6,7])\n",
    "c_vec = 1/lambda_vec\n",
    "parameters = {'C': c_vec}\n",
    "clf = LogisticRegression(max_iter=np.inf)\n",
    "gridSearch = GridSearchCV(clf, param_grid = parameters, n_jobs=-1)\n",
    "gridSearch = gridSearch.fit(X_train,y_train)\n",
    "C_best = gridSearch.best_params_['C']\n",
    "#entreno el mejor modelo\n",
    "clf = LogisticRegression(C = C_best,max_iter=np.inf)\n",
    "print(\"mejor c\",C_best)\n",
    "clf = clf.fit(X_train,y_train)\n",
    "print('Con el mejor modelo de regresion logistica obtengo:')\n",
    "print('\\t Accuracy de entrenamiento: ', clf.score(X_train,y_train)*100)\n",
    "print('\\t Accuracy de test: ', clf.score(X_test,y_test)*100)"
   ]
  },
  {
   "cell_type": "markdown",
   "id": "58b41e31",
   "metadata": {},
   "source": [
    "<br/><br/>**<u>SVM</u>:**<br/><br/><br/><br/>"
   ]
  },
  {
   "cell_type": "code",
   "execution_count": 108,
   "id": "98e59db8",
   "metadata": {
    "scrolled": true
   },
   "outputs": [
    {
     "name": "stdout",
     "output_type": "stream",
     "text": [
      "87.03537841468875\n",
      "66.52542372881356\n"
     ]
    }
   ],
   "source": [
    "from sklearn.svm import SVC\n",
    "clf = SVC().fit(X_train,y_train)\n",
    "print(clf.score(X_train,y_train)*100)\n",
    "print(clf.score(X_test,y_test)*100)"
   ]
  },
  {
   "cell_type": "markdown",
   "id": "80b4ee39",
   "metadata": {},
   "source": [
    "<br/><br/>**<u>MODELO FINAL: REGRESION LOGISTICA CON PESOS 'BALANCEADOS'</u>:**<br/><br/><br/><br/>"
   ]
  },
  {
   "cell_type": "code",
   "execution_count": 110,
   "id": "65e3a6d1",
   "metadata": {},
   "outputs": [
    {
     "name": "stdout",
     "output_type": "stream",
     "text": [
      "63.559322033898304\n"
     ]
    }
   ],
   "source": [
    "#usa por debajo OVA para problemas multiclase\n",
    "clf = LogisticRegression(random_state=0,max_iter=np.inf,class_weight='balanced').fit(X_train, y_train)\n",
    "print(clf.score(X_test, y_test)*100)"
   ]
  },
  {
   "cell_type": "markdown",
   "id": "c3b2f61b",
   "metadata": {},
   "source": [
    "<br/><br/>**<u>MATRIZ DE CONFUSION DE ENTRENAMIENTO</u>:**<br/><br/><br/><br/>"
   ]
  },
  {
   "cell_type": "code",
   "execution_count": 112,
   "id": "57847ae8",
   "metadata": {},
   "outputs": [
    {
     "data": {
      "image/png": "[encoded data removed]",
      "text/plain": [
       "<Figure size 432x288 with 2 Axes>"
      ]
     },
     "metadata": {
      "needs_background": "light"
     },
     "output_type": "display_data"
    }
   ],
   "source": [
    "plot_confusion_matrix(clf, X_train, y_train);"
   ]
  },
  {
   "cell_type": "markdown",
   "id": "52998a55",
   "metadata": {},
   "source": [
    "<br/><br/>**<u>MATRIZ DE CONFUSION DE TEST</u>:**<br/><br/><br/><br/>"
   ]
  },
  {
   "cell_type": "code",
   "execution_count": 111,
   "id": "ee89bb59",
   "metadata": {},
   "outputs": [
    {
     "data": {
      "image/png": "[encoded data removed]",
      "text/plain": [
       "<Figure size 432x288 with 2 Axes>"
      ]
     },
     "metadata": {
      "needs_background": "light"
     },
     "output_type": "display_data"
    }
   ],
   "source": [
    "plot_confusion_matrix(clf, X_test, y_test);"
   ]
  },
  {
   "cell_type": "markdown",
   "id": "5ffb2ab7",
   "metadata": {},
   "source": [
    "<br/><br/>**<u>F SCORE</u>:**<br/><br/><br/><br/>"
   ]
  },
  {
   "cell_type": "code",
   "execution_count": 114,
   "id": "5ef0a8f1",
   "metadata": {},
   "outputs": [
    {
     "name": "stdout",
     "output_type": "stream",
     "text": [
      "0.635593220338983\n"
     ]
    }
   ],
   "source": [
    "print(metrics.f1_score(y_test,clf.predict(X_test),average = 'micro'))"
   ]
  },
  {
   "cell_type": "markdown",
   "id": "b09cb381",
   "metadata": {},
   "source": [
    "<br/><br/>**<u>PRECISION</u>:**<br/><br/><br/><br/>"
   ]
  },
  {
   "cell_type": "code",
   "execution_count": 115,
   "id": "9bc82dcd",
   "metadata": {},
   "outputs": [
    {
     "name": "stdout",
     "output_type": "stream",
     "text": [
      "0.6941816790243845\n"
     ]
    }
   ],
   "source": [
    "print(metrics.precision_score(y_test,clf.predict(X_test),average = 'weighted'))"
   ]
  },
  {
   "cell_type": "markdown",
   "id": "4be75dd9",
   "metadata": {},
   "source": [
    "<br/><br/>**<u>RECALL</u>:**<br/><br/><br/><br/>"
   ]
  },
  {
   "cell_type": "code",
   "execution_count": 116,
   "id": "40b9f300",
   "metadata": {},
   "outputs": [
    {
     "name": "stdout",
     "output_type": "stream",
     "text": [
      "0.635593220338983\n"
     ]
    }
   ],
   "source": [
    "print(metrics.recall_score(y_test,clf.predict(X_test),average = 'weighted'))"
   ]
  },
  {
   "cell_type": "markdown",
   "id": "a05624a3",
   "metadata": {},
   "source": [
    "<br/><br/>**<u>AUC ROC</u>:**<br/><br/><br/><br/>"
   ]
  },
  {
   "cell_type": "code",
   "execution_count": 129,
   "id": "54f76de5",
   "metadata": {},
   "outputs": [],
   "source": [
    "from sklearn.preprocessing import OneHotEncoder\n",
    "transformadorYTest = OneHotEncoder()\n",
    "OHE_y_test = transformadorYTest.fit_transform(y_test.reshape(-1,1)).toarray()"
   ]
  },
  {
   "cell_type": "code",
   "execution_count": 130,
   "id": "284e5115",
   "metadata": {},
   "outputs": [
    {
     "name": "stdout",
     "output_type": "stream",
     "text": [
      "0.8214290873253206\n"
     ]
    }
   ],
   "source": [
    "print(metrics.roc_auc_score(OHE_y_test,clf.predict_proba(X_test),multi_class='ovr',average='weighted',labels = clf.classes_))"
   ]
  }
 ],
 "metadata": {
  "kernelspec": {
   "display_name": "Python 3",
   "language": "python",
   "name": "python3"
  },
  "language_info": {
   "codemirror_mode": {
    "name": "ipython",
    "version": 3
   },
   "file_extension": ".py",
   "mimetype": "text/x-python",
   "name": "python",
   "nbconvert_exporter": "python",
   "pygments_lexer": "ipython3",
   "version": "3.8.10"
  }
 },
 "nbformat": 4,
 "nbformat_minor": 5
}
